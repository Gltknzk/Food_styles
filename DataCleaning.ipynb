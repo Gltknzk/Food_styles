{
 "cells": [
  {
   "attachments": {},
   "cell_type": "markdown",
   "metadata": {},
   "source": [
    "## Data cleaning\n",
    "#### Identify the columns with mixed data types.\n",
    "#### For each column, count the number of rows per data type.\n",
    "#### Would removing missing values solve the mixed data type problem?\n"
   ]
  },
  {
   "cell_type": "code",
   "execution_count": 1,
   "metadata": {},
   "outputs": [],
   "source": [
    "import pandas as pd\n",
    "import warnings\n",
    "warnings.simplefilter('ignore')"
   ]
  },
  {
   "attachments": {},
   "cell_type": "markdown",
   "metadata": {},
   "source": [
    "## 1. Identifying columns with mixed data types:"
   ]
  },
  {
   "cell_type": "code",
   "execution_count": 2,
   "metadata": {},
   "outputs": [],
   "source": [
    "# read the dataset\n",
    "df = pd.read_csv('dataset.csv')"
   ]
  },
  {
   "cell_type": "code",
   "execution_count": 3,
   "metadata": {},
   "outputs": [
    {
     "data": {
      "text/html": [
       "<div>\n",
       "<style scoped>\n",
       "    .dataframe tbody tr th:only-of-type {\n",
       "        vertical-align: middle;\n",
       "    }\n",
       "\n",
       "    .dataframe tbody tr th {\n",
       "        vertical-align: top;\n",
       "    }\n",
       "\n",
       "    .dataframe thead th {\n",
       "        text-align: right;\n",
       "    }\n",
       "</style>\n",
       "<table border=\"1\" class=\"dataframe\">\n",
       "  <thead>\n",
       "    <tr style=\"text-align: right;\">\n",
       "      <th></th>\n",
       "      <th>restaurant_link</th>\n",
       "      <th>restaurant_name</th>\n",
       "      <th>original_location</th>\n",
       "      <th>country</th>\n",
       "      <th>region</th>\n",
       "      <th>province</th>\n",
       "      <th>city</th>\n",
       "      <th>address</th>\n",
       "      <th>latitude</th>\n",
       "      <th>longitude</th>\n",
       "      <th>...</th>\n",
       "      <th>excellent</th>\n",
       "      <th>very_good</th>\n",
       "      <th>average</th>\n",
       "      <th>poor</th>\n",
       "      <th>terrible</th>\n",
       "      <th>food</th>\n",
       "      <th>service</th>\n",
       "      <th>value</th>\n",
       "      <th>atmosphere</th>\n",
       "      <th>keywords</th>\n",
       "    </tr>\n",
       "  </thead>\n",
       "  <tbody>\n",
       "    <tr>\n",
       "      <th>0</th>\n",
       "      <td>g10001637-d10002227</td>\n",
       "      <td>Le 147</td>\n",
       "      <td>[\"Europe\", \"France\", \"Nouvelle-Aquitaine\", \"Ha...</td>\n",
       "      <td>France</td>\n",
       "      <td>Nouvelle-Aquitaine</td>\n",
       "      <td>Haute-Vienne</td>\n",
       "      <td>Saint-Jouvent</td>\n",
       "      <td>10 Maison Neuve, 87510 Saint-Jouvent France</td>\n",
       "      <td>45.961674</td>\n",
       "      <td>1.169131</td>\n",
       "      <td>...</td>\n",
       "      <td>2.0</td>\n",
       "      <td>0.0</td>\n",
       "      <td>0.0</td>\n",
       "      <td>0.0</td>\n",
       "      <td>0.0</td>\n",
       "      <td>4.0</td>\n",
       "      <td>4.5</td>\n",
       "      <td>4.0</td>\n",
       "      <td>NaN</td>\n",
       "      <td>NaN</td>\n",
       "    </tr>\n",
       "    <tr>\n",
       "      <th>1</th>\n",
       "      <td>g10001637-d14975787</td>\n",
       "      <td>Le Saint Jouvent</td>\n",
       "      <td>[\"Europe\", \"France\", \"Nouvelle-Aquitaine\", \"Ha...</td>\n",
       "      <td>France</td>\n",
       "      <td>Nouvelle-Aquitaine</td>\n",
       "      <td>Haute-Vienne</td>\n",
       "      <td>Saint-Jouvent</td>\n",
       "      <td>16 Place de l Eglise, 87510 Saint-Jouvent France</td>\n",
       "      <td>45.957040</td>\n",
       "      <td>1.205480</td>\n",
       "      <td>...</td>\n",
       "      <td>2.0</td>\n",
       "      <td>2.0</td>\n",
       "      <td>1.0</td>\n",
       "      <td>0.0</td>\n",
       "      <td>0.0</td>\n",
       "      <td>NaN</td>\n",
       "      <td>NaN</td>\n",
       "      <td>NaN</td>\n",
       "      <td>NaN</td>\n",
       "      <td>NaN</td>\n",
       "    </tr>\n",
       "    <tr>\n",
       "      <th>2</th>\n",
       "      <td>g10002858-d4586832</td>\n",
       "      <td>Au Bout du Pont</td>\n",
       "      <td>[\"Europe\", \"France\", \"Centre-Val de Loire\", \"B...</td>\n",
       "      <td>France</td>\n",
       "      <td>Centre-Val de Loire</td>\n",
       "      <td>Berry</td>\n",
       "      <td>Rivarennes</td>\n",
       "      <td>2 rue des Dames, 36800 Rivarennes France</td>\n",
       "      <td>46.635895</td>\n",
       "      <td>1.386133</td>\n",
       "      <td>...</td>\n",
       "      <td>3.0</td>\n",
       "      <td>1.0</td>\n",
       "      <td>0.0</td>\n",
       "      <td>0.0</td>\n",
       "      <td>0.0</td>\n",
       "      <td>NaN</td>\n",
       "      <td>NaN</td>\n",
       "      <td>NaN</td>\n",
       "      <td>NaN</td>\n",
       "      <td>NaN</td>\n",
       "    </tr>\n",
       "    <tr>\n",
       "      <th>3</th>\n",
       "      <td>g10002986-d3510044</td>\n",
       "      <td>Le Relais de Naiade</td>\n",
       "      <td>[\"Europe\", \"France\", \"Nouvelle-Aquitaine\", \"Co...</td>\n",
       "      <td>France</td>\n",
       "      <td>Nouvelle-Aquitaine</td>\n",
       "      <td>Correze</td>\n",
       "      <td>Lacelle</td>\n",
       "      <td>9 avenue Porte de la Correze 19170, 19170 Lace...</td>\n",
       "      <td>45.642610</td>\n",
       "      <td>1.824460</td>\n",
       "      <td>...</td>\n",
       "      <td>1.0</td>\n",
       "      <td>0.0</td>\n",
       "      <td>0.0</td>\n",
       "      <td>0.0</td>\n",
       "      <td>0.0</td>\n",
       "      <td>4.5</td>\n",
       "      <td>4.5</td>\n",
       "      <td>4.5</td>\n",
       "      <td>NaN</td>\n",
       "      <td>NaN</td>\n",
       "    </tr>\n",
       "    <tr>\n",
       "      <th>4</th>\n",
       "      <td>g10022428-d9767191</td>\n",
       "      <td>Relais Du MontSeigne</td>\n",
       "      <td>[\"Europe\", \"France\", \"Occitanie\", \"Aveyron\", \"...</td>\n",
       "      <td>France</td>\n",
       "      <td>Occitanie</td>\n",
       "      <td>Aveyron</td>\n",
       "      <td>Saint-Laurent-de-Levezou</td>\n",
       "      <td>route du Montseigne, 12620 Saint-Laurent-de-Le...</td>\n",
       "      <td>44.208860</td>\n",
       "      <td>2.960470</td>\n",
       "      <td>...</td>\n",
       "      <td>4.0</td>\n",
       "      <td>7.0</td>\n",
       "      <td>0.0</td>\n",
       "      <td>0.0</td>\n",
       "      <td>0.0</td>\n",
       "      <td>4.5</td>\n",
       "      <td>4.5</td>\n",
       "      <td>4.5</td>\n",
       "      <td>NaN</td>\n",
       "      <td>NaN</td>\n",
       "    </tr>\n",
       "  </tbody>\n",
       "</table>\n",
       "<p>5 rows × 42 columns</p>\n",
       "</div>"
      ],
      "text/plain": [
       "       restaurant_link       restaurant_name  \\\n",
       "0  g10001637-d10002227                Le 147   \n",
       "1  g10001637-d14975787      Le Saint Jouvent   \n",
       "2   g10002858-d4586832       Au Bout du Pont   \n",
       "3   g10002986-d3510044   Le Relais de Naiade   \n",
       "4   g10022428-d9767191  Relais Du MontSeigne   \n",
       "\n",
       "                                   original_location country  \\\n",
       "0  [\"Europe\", \"France\", \"Nouvelle-Aquitaine\", \"Ha...  France   \n",
       "1  [\"Europe\", \"France\", \"Nouvelle-Aquitaine\", \"Ha...  France   \n",
       "2  [\"Europe\", \"France\", \"Centre-Val de Loire\", \"B...  France   \n",
       "3  [\"Europe\", \"France\", \"Nouvelle-Aquitaine\", \"Co...  France   \n",
       "4  [\"Europe\", \"France\", \"Occitanie\", \"Aveyron\", \"...  France   \n",
       "\n",
       "                region      province                      city  \\\n",
       "0   Nouvelle-Aquitaine  Haute-Vienne             Saint-Jouvent   \n",
       "1   Nouvelle-Aquitaine  Haute-Vienne             Saint-Jouvent   \n",
       "2  Centre-Val de Loire         Berry                Rivarennes   \n",
       "3   Nouvelle-Aquitaine       Correze                   Lacelle   \n",
       "4            Occitanie       Aveyron  Saint-Laurent-de-Levezou   \n",
       "\n",
       "                                             address   latitude  longitude  \\\n",
       "0        10 Maison Neuve, 87510 Saint-Jouvent France  45.961674   1.169131   \n",
       "1   16 Place de l Eglise, 87510 Saint-Jouvent France  45.957040   1.205480   \n",
       "2           2 rue des Dames, 36800 Rivarennes France  46.635895   1.386133   \n",
       "3  9 avenue Porte de la Correze 19170, 19170 Lace...  45.642610   1.824460   \n",
       "4  route du Montseigne, 12620 Saint-Laurent-de-Le...  44.208860   2.960470   \n",
       "\n",
       "   ... excellent very_good average poor terrible food service value  \\\n",
       "0  ...       2.0       0.0     0.0  0.0      0.0  4.0     4.5   4.0   \n",
       "1  ...       2.0       2.0     1.0  0.0      0.0  NaN     NaN   NaN   \n",
       "2  ...       3.0       1.0     0.0  0.0      0.0  NaN     NaN   NaN   \n",
       "3  ...       1.0       0.0     0.0  0.0      0.0  4.5     4.5   4.5   \n",
       "4  ...       4.0       7.0     0.0  0.0      0.0  4.5     4.5   4.5   \n",
       "\n",
       "  atmosphere keywords  \n",
       "0        NaN      NaN  \n",
       "1        NaN      NaN  \n",
       "2        NaN      NaN  \n",
       "3        NaN      NaN  \n",
       "4        NaN      NaN  \n",
       "\n",
       "[5 rows x 42 columns]"
      ]
     },
     "execution_count": 3,
     "metadata": {},
     "output_type": "execute_result"
    }
   ],
   "source": [
    "# check the data types of each column\n",
    "df.head()"
   ]
  },
  {
   "cell_type": "code",
   "execution_count": 4,
   "metadata": {},
   "outputs": [],
   "source": [
    "# create an empty list to store columns with mixed data types\n",
    "mixed_columns = []\n",
    "\n",
    "# iterate through each column\n",
    "for column in df.columns:\n",
    "    # check if the column has more than one unique data type\n",
    "    if len(df[column].apply(type).unique()) > 1:\n",
    "        # if so, add the column to the list of mixed columns\n",
    "        mixed_columns.append(column)"
   ]
  },
  {
   "cell_type": "code",
   "execution_count": 5,
   "metadata": {},
   "outputs": [
    {
     "name": "stdout",
     "output_type": "stream",
     "text": [
      "['region', 'province', 'city', 'claimed', 'awards', 'popularity_detailed', 'popularity_generic', 'top_tags', 'price_level', 'price_range', 'meals', 'cuisines', 'special_diets', 'features', 'original_open_hours', 'default_language', 'keywords']\n"
     ]
    }
   ],
   "source": [
    "print(mixed_columns)"
   ]
  },
  {
   "cell_type": "code",
   "execution_count": 6,
   "metadata": {},
   "outputs": [
    {
     "name": "stdout",
     "output_type": "stream",
     "text": [
      "[<class 'str'> <class 'float'>]\n"
     ]
    }
   ],
   "source": [
    "# lets have a look at one of the mixed columns to see data types it has\n",
    "print(df.region.apply(type).unique())"
   ]
  },
  {
   "cell_type": "code",
   "execution_count": 7,
   "metadata": {},
   "outputs": [
    {
     "name": "stdout",
     "output_type": "stream",
     "text": [
      "[<class 'str'> <class 'float'>]\n"
     ]
    }
   ],
   "source": [
    "# features column has also mixed data types \n",
    "print(df.features.apply(type).unique())"
   ]
  },
  {
   "attachments": {},
   "cell_type": "markdown",
   "metadata": {},
   "source": [
    "## 2. Counting the number of rows per data type for each column"
   ]
  },
  {
   "cell_type": "code",
   "execution_count": 9,
   "metadata": {},
   "outputs": [
    {
     "name": "stdout",
     "output_type": "stream",
     "text": [
      "{'region': <class 'str'>      1033074\n",
      "<class 'float'>      50323\n",
      "Name: region, dtype: int64, 'province': <class 'str'>      742765\n",
      "<class 'float'>    340632\n",
      "Name: province, dtype: int64, 'city': <class 'str'>      682712\n",
      "<class 'float'>    400685\n",
      "Name: city, dtype: int64, 'claimed': <class 'str'>      1081555\n",
      "<class 'float'>       1842\n",
      "Name: claimed, dtype: int64, 'awards': <class 'float'>    820264\n",
      "<class 'str'>      263133\n",
      "Name: awards, dtype: int64, 'popularity_detailed': <class 'str'>      988409\n",
      "<class 'float'>     94988\n",
      "Name: popularity_detailed, dtype: int64, 'popularity_generic': <class 'str'>      985605\n",
      "<class 'float'>     97792\n",
      "Name: popularity_generic, dtype: int64, 'top_tags': <class 'str'>      972763\n",
      "<class 'float'>    110634\n",
      "Name: top_tags, dtype: int64, 'price_level': <class 'str'>      806192\n",
      "<class 'float'>    277205\n",
      "Name: price_level, dtype: int64, 'price_range': <class 'float'>    779070\n",
      "<class 'str'>      304327\n",
      "Name: price_range, dtype: int64, 'meals': <class 'str'>      635347\n",
      "<class 'float'>    448050\n",
      "Name: meals, dtype: int64, 'cuisines': <class 'str'>      914294\n",
      "<class 'float'>    169103\n",
      "Name: cuisines, dtype: int64, 'special_diets': <class 'float'>    743141\n",
      "<class 'str'>      340256\n",
      "Name: special_diets, dtype: int64, 'features': <class 'float'>    765990\n",
      "<class 'str'>      317407\n",
      "Name: features, dtype: int64, 'original_open_hours': <class 'str'>      593832\n",
      "<class 'float'>    489565\n",
      "Name: original_open_hours, dtype: int64, 'default_language': <class 'str'>      988204\n",
      "<class 'float'>     95193\n",
      "Name: default_language, dtype: int64, 'keywords': <class 'float'>    984199\n",
      "<class 'str'>       99198\n",
      "Name: keywords, dtype: int64}\n"
     ]
    }
   ],
   "source": [
    "# create an empty dictionary to store the data type counts\n",
    "data_type_counts = {}\n",
    "\n",
    "# iterate through each mixed column\n",
    "for column in mixed_columns:\n",
    "    # get the counts of each data type in the column\n",
    "    counts = df[column].apply(type).value_counts()\n",
    "    # add the counts to the dictionary with the column name as the key\n",
    "    data_type_counts[column] = counts\n",
    "\n",
    "# print the dictionary that shows count of data types \n",
    "print(data_type_counts)"
   ]
  },
  {
   "cell_type": "code",
   "execution_count": 22,
   "metadata": {},
   "outputs": [
    {
     "data": {
      "application/javascript": "\n        if (window._pyforest_update_imports_cell) { window._pyforest_update_imports_cell('import matplotlib.pyplot as plt\\nimport numpy as np\\nimport seaborn as sns'); }\n    ",
      "text/plain": [
       "<IPython.core.display.Javascript object>"
      ]
     },
     "metadata": {},
     "output_type": "display_data"
    },
    {
     "data": {
      "application/javascript": "\n        if (window._pyforest_update_imports_cell) { window._pyforest_update_imports_cell('import matplotlib.pyplot as plt\\nimport numpy as np\\nimport seaborn as sns'); }\n    ",
      "text/plain": [
       "<IPython.core.display.Javascript object>"
      ]
     },
     "metadata": {},
     "output_type": "display_data"
    },
    {
     "data": {
      "application/javascript": "\n        if (window._pyforest_update_imports_cell) { window._pyforest_update_imports_cell('import matplotlib.pyplot as plt\\nimport numpy as np\\nimport seaborn as sns'); }\n    ",
      "text/plain": [
       "<IPython.core.display.Javascript object>"
      ]
     },
     "metadata": {},
     "output_type": "display_data"
    },
    {
     "data": {
      "image/png": "[encoded data removed]",
      "text/plain": [
       "<Figure size 640x480 with 1 Axes>"
      ]
     },
     "metadata": {},
     "output_type": "display_data"
    }
   ],
   "source": [
    "df_counts = pd.DataFrame.from_dict(data_type_counts)\n",
    "df_counts = df_counts.T\n",
    "# clean the column names\n",
    "df_counts.columns = [str(col).lower().replace(\" \", \"_\") for col in df_counts.columns]\n",
    "# create a bar plot\n",
    "sns.barplot(data=df_counts)\n",
    "#Add title to the chart\n",
    "plt.title(\"Data Types Counts for Mixed Columns\")\n",
    "#Show the plot\n",
    "plt.show()"
   ]
  },
  {
   "cell_type": "code",
   "execution_count": 11,
   "metadata": {},
   "outputs": [
    {
     "data": {
      "text/plain": [
       "{'region': 50323,\n",
       " 'province': 340632,\n",
       " 'city': 400685,\n",
       " 'claimed': 1842,\n",
       " 'awards': 820264,\n",
       " 'popularity_detailed': 94988,\n",
       " 'popularity_generic': 97792,\n",
       " 'top_tags': 110634,\n",
       " 'price_level': 277205,\n",
       " 'price_range': 779070,\n",
       " 'meals': 448050,\n",
       " 'cuisines': 169103,\n",
       " 'special_diets': 743141,\n",
       " 'features': 765990,\n",
       " 'original_open_hours': 489565,\n",
       " 'default_language': 95193,\n",
       " 'keywords': 984199}"
      ]
     },
     "execution_count": 11,
     "metadata": {},
     "output_type": "execute_result"
    }
   ],
   "source": [
    "# create a dictionary to store the float count for each mixed column\n",
    "float_counts = {}\n",
    "\n",
    "# iterate through each mixed column\n",
    "for column in mixed_columns:\n",
    "    # get the float count for the column\n",
    "    float_count = df[column].apply(lambda x: type(x) == float).sum()\n",
    "    # add the float count to the dictionary with the column name as the key\n",
    "    float_counts[column] = float_count\n",
    "\n",
    "# print the dictionary\n",
    "float_counts\n"
   ]
  },
  {
   "cell_type": "code",
   "execution_count": 12,
   "metadata": {},
   "outputs": [
    {
     "data": {
      "application/javascript": "\n        if (window._pyforest_update_imports_cell) { window._pyforest_update_imports_cell('import matplotlib.pyplot as plt'); }\n    ",
      "text/plain": [
       "<IPython.core.display.Javascript object>"
      ]
     },
     "metadata": {},
     "output_type": "display_data"
    },
    {
     "data": {
      "application/javascript": "\n        if (window._pyforest_update_imports_cell) { window._pyforest_update_imports_cell('import matplotlib.pyplot as plt\\nimport seaborn as sns'); }\n    ",
      "text/plain": [
       "<IPython.core.display.Javascript object>"
      ]
     },
     "metadata": {},
     "output_type": "display_data"
    },
    {
     "data": {
      "application/javascript": "\n        if (window._pyforest_update_imports_cell) { window._pyforest_update_imports_cell('import matplotlib.pyplot as plt\\nimport seaborn as sns'); }\n    ",
      "text/plain": [
       "<IPython.core.display.Javascript object>"
      ]
     },
     "metadata": {},
     "output_type": "display_data"
    },
    {
     "data": {
      "application/javascript": "\n        if (window._pyforest_update_imports_cell) { window._pyforest_update_imports_cell('import matplotlib.pyplot as plt\\nimport seaborn as sns'); }\n    ",
      "text/plain": [
       "<IPython.core.display.Javascript object>"
      ]
     },
     "metadata": {},
     "output_type": "display_data"
    },
    {
     "data": {
      "application/javascript": "\n        if (window._pyforest_update_imports_cell) { window._pyforest_update_imports_cell('import matplotlib.pyplot as plt\\nimport seaborn as sns'); }\n    ",
      "text/plain": [
       "<IPython.core.display.Javascript object>"
      ]
     },
     "metadata": {},
     "output_type": "display_data"
    },
    {
     "data": {
      "application/javascript": "\n        if (window._pyforest_update_imports_cell) { window._pyforest_update_imports_cell('import matplotlib.pyplot as plt\\nimport seaborn as sns'); }\n    ",
      "text/plain": [
       "<IPython.core.display.Javascript object>"
      ]
     },
     "metadata": {},
     "output_type": "display_data"
    },
    {
     "data": {
      "image/png": "[encoded data removed]",
      "text/plain": [
       "<Figure size 1000x800 with 1 Axes>"
      ]
     },
     "metadata": {},
     "output_type": "display_data"
    }
   ],
   "source": [
    "# Visualize the float counts using a barplot\n",
    "plt.figure(figsize=(10,8))\n",
    "sns.barplot(x=list(float_counts.keys()), y=list(float_counts.values()))\n",
    "plt.xticks(rotation=90)\n",
    "plt.xlabel('Columns')\n",
    "plt.ylabel('Number of float values')\n",
    "plt.show()"
   ]
  },
  {
   "cell_type": "code",
   "execution_count": 13,
   "metadata": {},
   "outputs": [],
   "source": [
    "# Filter dataframe to only include columns of 'object' dtype\n",
    "object_cols = df.select_dtypes(include='object')\n",
    "\n",
    "# Count the number of null values in each column\n",
    "null_counts = object_cols.isnull().sum()"
   ]
  },
  {
   "cell_type": "code",
   "execution_count": 14,
   "metadata": {},
   "outputs": [
    {
     "data": {
      "text/plain": [
       "restaurant_link             0\n",
       "restaurant_name             0\n",
       "original_location           0\n",
       "country                     0\n",
       "region                  50323\n",
       "province               340632\n",
       "city                   400685\n",
       "address                     0\n",
       "claimed                  1842\n",
       "awards                 820264\n",
       "popularity_detailed     94988\n",
       "popularity_generic      97792\n",
       "top_tags               110634\n",
       "price_level            277205\n",
       "price_range            779070\n",
       "meals                  448050\n",
       "cuisines               169103\n",
       "special_diets          743141\n",
       "features               765990\n",
       "vegetarian_friendly         0\n",
       "vegan_options               0\n",
       "gluten_free                 0\n",
       "original_open_hours    489565\n",
       "default_language        95193\n",
       "keywords               984199\n",
       "dtype: int64"
      ]
     },
     "execution_count": 14,
     "metadata": {},
     "output_type": "execute_result"
    }
   ],
   "source": [
    "null_counts"
   ]
  },
  {
   "attachments": {},
   "cell_type": "markdown",
   "metadata": {},
   "source": [
    "## 3. Would removing missing values solve the mixed data type problem?"
   ]
  },
  {
   "attachments": {},
   "cell_type": "markdown",
   "metadata": {},
   "source": [
    "The best practice for handling missing values in a dataset depends on the specific situation and the goals of the analysis. Generally, the following strategies are commonly used:\n",
    "\n",
    "Remove rows or columns with missing values: This approach is appropriate if the proportion of missing values is small and if the missing values are not informative. However, this approach can lead to a loss of important information and could bias the analysis.\n",
    "\n",
    "Impute missing values: This approach involves replacing missing values with estimates based on the other values in the dataset. Common methods include mean imputation, median imputation, and multiple imputation. This approach can be useful if the proportion of missing values is moderate, but it can be problematic if the data is missing not at random.\n",
    "\n",
    "Keep the missing values: This approach is appropriate if the data is missing at random and if the missing values are informative. For example, if a variable is missing because it was not applicable or not asked, then keeping the missing values can be useful.\n",
    "\n",
    "Ultimately, the best approach will depend on the specific dataset and the goals of the analysis. It is always a good idea to explore the missingness patterns and the distribution of the data before making a decision on how to handle missing values.\n"
   ]
  }
 ],
 "metadata": {
  "kernelspec": {
   "display_name": "Python 3",
   "language": "python",
   "name": "python3"
  },
  "language_info": {
   "codemirror_mode": {
    "name": "ipython",
    "version": 3
   },
   "file_extension": ".py",
   "mimetype": "text/x-python",
   "name": "python",
   "nbconvert_exporter": "python",
   "pygments_lexer": "ipython3",
   "version": "3.9.12"
  },
  "orig_nbformat": 4,
  "vscode": {
   "interpreter": {
    "hash": "68a8ec9b2aee8f0dc09503eae0ab510d7ec7ac4435421b9144dd4188b23706ff"
   }
  }
 },
 "nbformat": 4,
 "nbformat_minor": 2
}
