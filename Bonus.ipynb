{
 "cells": [
  {
   "cell_type": "code",
   "execution_count": null,
   "metadata": {},
   "outputs": [],
   "source": [
    "#!pip install folium"
   ]
  },
  {
   "cell_type": "code",
   "execution_count": 1,
   "metadata": {},
   "outputs": [],
   "source": [
    "import pandas as pd\n",
    "import json\n",
    "import folium\n",
    "from folium.plugins import HeatMap\n",
    "from folium.plugins import FastMarkerCluster\n",
    "from folium.plugins import HeatMapWithTime\n",
    "from shapely.geometry import Polygon, Point"
   ]
  },
  {
   "cell_type": "code",
   "execution_count": 2,
   "metadata": {},
   "outputs": [
    {
     "name": "stderr",
     "output_type": "stream",
     "text": [
      "C:\\Users\\pcc\\AppData\\Local\\Temp\\ipykernel_2032\\2126069228.py:2: DtypeWarning: Columns (4) have mixed types. Specify dtype option on import or set low_memory=False.\n",
      "  df_restaurants = pd.read_csv('dataset.csv')\n"
     ]
    }
   ],
   "source": [
    "# Load the restaurants dataset\n",
    "df_restaurants = pd.read_csv('dataset.csv')\n",
    "\n",
    "# Filter out only Italian restaurants\n",
    "italian_restaurants = df_restaurants[df_restaurants['cuisines'].str.contains(\"Italian\", na=False)]\n",
    "\n",
    "\n",
    "with open('paris_bounding_polygon.json') as f:\n",
    "    data = json.load(f)"
   ]
  },
  {
   "cell_type": "code",
   "execution_count": 3,
   "metadata": {},
   "outputs": [],
   "source": [
    "# Create a dataframe of the polygon coordinates\n",
    "df_polygon = pd.DataFrame(data, columns=['longitude', 'latitude'])"
   ]
  },
  {
   "cell_type": "code",
   "execution_count": 4,
   "metadata": {},
   "outputs": [
    {
     "data": {
      "text/html": [
       "<div>\n",
       "<style scoped>\n",
       "    .dataframe tbody tr th:only-of-type {\n",
       "        vertical-align: middle;\n",
       "    }\n",
       "\n",
       "    .dataframe tbody tr th {\n",
       "        vertical-align: top;\n",
       "    }\n",
       "\n",
       "    .dataframe thead th {\n",
       "        text-align: right;\n",
       "    }\n",
       "</style>\n",
       "<table border=\"1\" class=\"dataframe\">\n",
       "  <thead>\n",
       "    <tr style=\"text-align: right;\">\n",
       "      <th></th>\n",
       "      <th>longitude</th>\n",
       "      <th>latitude</th>\n",
       "    </tr>\n",
       "  </thead>\n",
       "  <tbody>\n",
       "    <tr>\n",
       "      <th>0</th>\n",
       "      <td>2.224169</td>\n",
       "      <td>48.853442</td>\n",
       "    </tr>\n",
       "    <tr>\n",
       "      <th>1</th>\n",
       "      <td>2.224161</td>\n",
       "      <td>48.853478</td>\n",
       "    </tr>\n",
       "    <tr>\n",
       "      <th>2</th>\n",
       "      <td>2.224143</td>\n",
       "      <td>48.853578</td>\n",
       "    </tr>\n",
       "    <tr>\n",
       "      <th>3</th>\n",
       "      <td>2.224135</td>\n",
       "      <td>48.853654</td>\n",
       "    </tr>\n",
       "    <tr>\n",
       "      <th>4</th>\n",
       "      <td>2.224129</td>\n",
       "      <td>48.853759</td>\n",
       "    </tr>\n",
       "  </tbody>\n",
       "</table>\n",
       "</div>"
      ],
      "text/plain": [
       "   longitude   latitude\n",
       "0   2.224169  48.853442\n",
       "1   2.224161  48.853478\n",
       "2   2.224143  48.853578\n",
       "3   2.224135  48.853654\n",
       "4   2.224129  48.853759"
      ]
     },
     "execution_count": 4,
     "metadata": {},
     "output_type": "execute_result"
    }
   ],
   "source": [
    "df_polygon.head()"
   ]
  },
  {
   "cell_type": "code",
   "execution_count": 5,
   "metadata": {},
   "outputs": [],
   "source": [
    "# Create a map of Paris\n",
    "m = folium.Map(location=[48.8566, 2.3522], zoom_start=12)"
   ]
  },
  {
   "cell_type": "code",
   "execution_count": 6,
   "metadata": {},
   "outputs": [],
   "source": [
    "italian_restaurants = italian_restaurants.dropna(subset=['latitude', 'longitude'])"
   ]
  },
  {
   "cell_type": "code",
   "execution_count": 7,
   "metadata": {},
   "outputs": [],
   "source": [
    "# Add the Italian restaurants to the map\n",
    "for idx, row in italian_restaurants.iterrows():\n",
    "    folium.Marker(location=[row['latitude'], row['longitude']]).add_to(m)"
   ]
  },
  {
   "cell_type": "code",
   "execution_count": 8,
   "metadata": {},
   "outputs": [
    {
     "data": {
      "text/plain": [
       "<folium.vector_layers.Polygon at 0x1a397bc4c40>"
      ]
     },
     "execution_count": 8,
     "metadata": {},
     "output_type": "execute_result"
    }
   ],
   "source": [
    "# Add the Paris bounding polygon to the map\n",
    "folium.Polygon(df_polygon.values.tolist(), color='red', fill=True, fill_color='#ff0000').add_to(m)"
   ]
  },
  {
   "cell_type": "code",
   "execution_count": 9,
   "metadata": {},
   "outputs": [],
   "source": [
    "m.save(\"map2.html\")"
   ]
  },
  {
   "cell_type": "code",
   "execution_count": 10,
   "metadata": {},
   "outputs": [
    {
     "data": {
      "text/html": [
       "<div>\n",
       "<style scoped>\n",
       "    .dataframe tbody tr th:only-of-type {\n",
       "        vertical-align: middle;\n",
       "    }\n",
       "\n",
       "    .dataframe tbody tr th {\n",
       "        vertical-align: top;\n",
       "    }\n",
       "\n",
       "    .dataframe thead th {\n",
       "        text-align: right;\n",
       "    }\n",
       "</style>\n",
       "<table border=\"1\" class=\"dataframe\">\n",
       "  <thead>\n",
       "    <tr style=\"text-align: right;\">\n",
       "      <th></th>\n",
       "      <th>restaurant_link</th>\n",
       "      <th>restaurant_name</th>\n",
       "      <th>original_location</th>\n",
       "      <th>country</th>\n",
       "      <th>region</th>\n",
       "      <th>province</th>\n",
       "      <th>city</th>\n",
       "      <th>address</th>\n",
       "      <th>latitude</th>\n",
       "      <th>longitude</th>\n",
       "      <th>...</th>\n",
       "      <th>excellent</th>\n",
       "      <th>very_good</th>\n",
       "      <th>average</th>\n",
       "      <th>poor</th>\n",
       "      <th>terrible</th>\n",
       "      <th>food</th>\n",
       "      <th>service</th>\n",
       "      <th>value</th>\n",
       "      <th>atmosphere</th>\n",
       "      <th>keywords</th>\n",
       "    </tr>\n",
       "  </thead>\n",
       "  <tbody>\n",
       "    <tr>\n",
       "      <th>16</th>\n",
       "      <td>g1005749-d3331242</td>\n",
       "      <td>Tip top pizza</td>\n",
       "      <td>[\"Europe\", \"France\", \"Provence-Alpes-Cote d'Az...</td>\n",
       "      <td>France</td>\n",
       "      <td>Provence-Alpes-Cote d'Azur</td>\n",
       "      <td>Var</td>\n",
       "      <td>Rocbaron</td>\n",
       "      <td>2 Zac de Fray Redon, 83136 Rocbaron France</td>\n",
       "      <td>43.315495</td>\n",
       "      <td>6.076796</td>\n",
       "      <td>...</td>\n",
       "      <td>1.0</td>\n",
       "      <td>0.0</td>\n",
       "      <td>0.0</td>\n",
       "      <td>0.0</td>\n",
       "      <td>0.0</td>\n",
       "      <td>4.0</td>\n",
       "      <td>4.5</td>\n",
       "      <td>4.0</td>\n",
       "      <td>NaN</td>\n",
       "      <td>NaN</td>\n",
       "    </tr>\n",
       "    <tr>\n",
       "      <th>18</th>\n",
       "      <td>g1005749-d4414073</td>\n",
       "      <td>La terrasse</td>\n",
       "      <td>[\"Europe\", \"France\", \"Provence-Alpes-Cote d'Az...</td>\n",
       "      <td>France</td>\n",
       "      <td>Provence-Alpes-Cote d'Azur</td>\n",
       "      <td>Var</td>\n",
       "      <td>Rocbaron</td>\n",
       "      <td>10 rue des Faysonnes, 83136 Rocbaron France</td>\n",
       "      <td>43.304080</td>\n",
       "      <td>6.091490</td>\n",
       "      <td>...</td>\n",
       "      <td>36.0</td>\n",
       "      <td>28.0</td>\n",
       "      <td>10.0</td>\n",
       "      <td>4.0</td>\n",
       "      <td>1.0</td>\n",
       "      <td>4.5</td>\n",
       "      <td>4.0</td>\n",
       "      <td>4.5</td>\n",
       "      <td>NaN</td>\n",
       "      <td>NaN</td>\n",
       "    </tr>\n",
       "    <tr>\n",
       "      <th>38</th>\n",
       "      <td>g1005948-d16945637</td>\n",
       "      <td>Pizzeria la 18</td>\n",
       "      <td>[\"Europe\", \"France\", \"Auvergne-Rhone-Alpes\", \"...</td>\n",
       "      <td>France</td>\n",
       "      <td>Auvergne-Rhone-Alpes</td>\n",
       "      <td>Savoie</td>\n",
       "      <td>Lanslebourg Mont Cenis</td>\n",
       "      <td>30 rue du Mont Cenis, Lanslebourg Mont Cenis, ...</td>\n",
       "      <td>45.285300</td>\n",
       "      <td>6.875290</td>\n",
       "      <td>...</td>\n",
       "      <td>10.0</td>\n",
       "      <td>0.0</td>\n",
       "      <td>0.0</td>\n",
       "      <td>0.0</td>\n",
       "      <td>1.0</td>\n",
       "      <td>NaN</td>\n",
       "      <td>NaN</td>\n",
       "      <td>NaN</td>\n",
       "      <td>NaN</td>\n",
       "      <td>NaN</td>\n",
       "    </tr>\n",
       "    <tr>\n",
       "      <th>39</th>\n",
       "      <td>g1005948-d19738443</td>\n",
       "      <td>VR 17</td>\n",
       "      <td>[\"Europe\", \"France\", \"Auvergne-Rhone-Alpes\", \"...</td>\n",
       "      <td>France</td>\n",
       "      <td>Auvergne-Rhone-Alpes</td>\n",
       "      <td>Savoie</td>\n",
       "      <td>Lanslebourg Mont Cenis</td>\n",
       "      <td>35 rue du Mont Cenis, 73480 Lanslebourg Mont C...</td>\n",
       "      <td>45.285210</td>\n",
       "      <td>6.877013</td>\n",
       "      <td>...</td>\n",
       "      <td>1.0</td>\n",
       "      <td>0.0</td>\n",
       "      <td>0.0</td>\n",
       "      <td>0.0</td>\n",
       "      <td>0.0</td>\n",
       "      <td>NaN</td>\n",
       "      <td>NaN</td>\n",
       "      <td>NaN</td>\n",
       "      <td>NaN</td>\n",
       "      <td>NaN</td>\n",
       "    </tr>\n",
       "    <tr>\n",
       "      <th>50</th>\n",
       "      <td>g1005948-d5986578</td>\n",
       "      <td>Ristorante Hotel Gran Scala</td>\n",
       "      <td>[\"Europe\", \"France\", \"Auvergne-Rhone-Alpes\", \"...</td>\n",
       "      <td>France</td>\n",
       "      <td>Auvergne-Rhone-Alpes</td>\n",
       "      <td>Savoie</td>\n",
       "      <td>Lanslebourg Mont Cenis</td>\n",
       "      <td>73480 Lanslebourg-Mont-Cenis, 73480 Lanslebour...</td>\n",
       "      <td>45.285270</td>\n",
       "      <td>6.878860</td>\n",
       "      <td>...</td>\n",
       "      <td>7.0</td>\n",
       "      <td>15.0</td>\n",
       "      <td>5.0</td>\n",
       "      <td>2.0</td>\n",
       "      <td>0.0</td>\n",
       "      <td>4.0</td>\n",
       "      <td>3.5</td>\n",
       "      <td>4.0</td>\n",
       "      <td>NaN</td>\n",
       "      <td>NaN</td>\n",
       "    </tr>\n",
       "  </tbody>\n",
       "</table>\n",
       "<p>5 rows × 42 columns</p>\n",
       "</div>"
      ],
      "text/plain": [
       "       restaurant_link              restaurant_name  \\\n",
       "16   g1005749-d3331242                Tip top pizza   \n",
       "18   g1005749-d4414073                  La terrasse   \n",
       "38  g1005948-d16945637               Pizzeria la 18   \n",
       "39  g1005948-d19738443                        VR 17   \n",
       "50   g1005948-d5986578  Ristorante Hotel Gran Scala   \n",
       "\n",
       "                                    original_location country  \\\n",
       "16  [\"Europe\", \"France\", \"Provence-Alpes-Cote d'Az...  France   \n",
       "18  [\"Europe\", \"France\", \"Provence-Alpes-Cote d'Az...  France   \n",
       "38  [\"Europe\", \"France\", \"Auvergne-Rhone-Alpes\", \"...  France   \n",
       "39  [\"Europe\", \"France\", \"Auvergne-Rhone-Alpes\", \"...  France   \n",
       "50  [\"Europe\", \"France\", \"Auvergne-Rhone-Alpes\", \"...  France   \n",
       "\n",
       "                        region province                    city  \\\n",
       "16  Provence-Alpes-Cote d'Azur      Var                Rocbaron   \n",
       "18  Provence-Alpes-Cote d'Azur      Var                Rocbaron   \n",
       "38        Auvergne-Rhone-Alpes   Savoie  Lanslebourg Mont Cenis   \n",
       "39        Auvergne-Rhone-Alpes   Savoie  Lanslebourg Mont Cenis   \n",
       "50        Auvergne-Rhone-Alpes   Savoie  Lanslebourg Mont Cenis   \n",
       "\n",
       "                                              address   latitude  longitude  \\\n",
       "16         2 Zac de Fray Redon, 83136 Rocbaron France  43.315495   6.076796   \n",
       "18        10 rue des Faysonnes, 83136 Rocbaron France  43.304080   6.091490   \n",
       "38  30 rue du Mont Cenis, Lanslebourg Mont Cenis, ...  45.285300   6.875290   \n",
       "39  35 rue du Mont Cenis, 73480 Lanslebourg Mont C...  45.285210   6.877013   \n",
       "50  73480 Lanslebourg-Mont-Cenis, 73480 Lanslebour...  45.285270   6.878860   \n",
       "\n",
       "    ... excellent very_good average poor terrible food service value  \\\n",
       "16  ...       1.0       0.0     0.0  0.0      0.0  4.0     4.5   4.0   \n",
       "18  ...      36.0      28.0    10.0  4.0      1.0  4.5     4.0   4.5   \n",
       "38  ...      10.0       0.0     0.0  0.0      1.0  NaN     NaN   NaN   \n",
       "39  ...       1.0       0.0     0.0  0.0      0.0  NaN     NaN   NaN   \n",
       "50  ...       7.0      15.0     5.0  2.0      0.0  4.0     3.5   4.0   \n",
       "\n",
       "   atmosphere keywords  \n",
       "16        NaN      NaN  \n",
       "18        NaN      NaN  \n",
       "38        NaN      NaN  \n",
       "39        NaN      NaN  \n",
       "50        NaN      NaN  \n",
       "\n",
       "[5 rows x 42 columns]"
      ]
     },
     "execution_count": 10,
     "metadata": {},
     "output_type": "execute_result"
    }
   ],
   "source": [
    "italian_restaurants.head()"
   ]
  }
 ],
 "metadata": {
  "kernelspec": {
   "display_name": "Python 3",
   "language": "python",
   "name": "python3"
  },
  "language_info": {
   "codemirror_mode": {
    "name": "ipython",
    "version": 3
   },
   "file_extension": ".py",
   "mimetype": "text/x-python",
   "name": "python",
   "nbconvert_exporter": "python",
   "pygments_lexer": "ipython3",
   "version": "3.9.12"
  },
  "orig_nbformat": 4,
  "vscode": {
   "interpreter": {
    "hash": "68a8ec9b2aee8f0dc09503eae0ab510d7ec7ac4435421b9144dd4188b23706ff"
   }
  }
 },
 "nbformat": 4,
 "nbformat_minor": 2
}
